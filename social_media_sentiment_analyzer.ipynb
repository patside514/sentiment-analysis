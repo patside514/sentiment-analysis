{
 "cells": [
  {
   "cell_type": "markdown",
   "metadata": {},
   "source": [
    "# Outil d'Analyse de Sentiment des Médias Sociaux\n",
    "\n",
    "Ce notebook est une adaptation pour Google Colab de l'outil d'analyse de sentiment des médias sociaux. Il permet d'analyser le sentiment des publications sur Twitter, Facebook et Google Reviews.\n",
    "\n",
    "## Fonctionnalités\n",
    "\n",
    "- Extraction de données depuis Twitter (via snscrape)\n",
    "- Analyse de sentiment avec TextBlob et Transformers\n",
    "- Extraction de mots-clés\n",
    "- Visualisation des résultats\n",
    "- Génération de rapports\n",
    "\n",
    "## Comment utiliser ce notebook\n",
    "\n",
    "1. Exécutez les cellules dans l'ordre\n",
    "2. Configurez les paramètres d'analyse dans la section dédiée\n",
    "3. Lancez l'analyse et explorez les résultats\n"
   ]
  },
  {
   "cell_type": "markdown",
   "metadata": {},
   "source": [
    "## 1. Installation des dépendances\n",
    "\n",
    "Commençons par installer les bibliothèques nécessaires."
   ]
  },
  {
   "cell_type": "code",
   "execution_count": null,
   "metadata": {},
   "outputs": [],
   "source": [
    "# Installation des packages requis\n",
    "!pip install textblob snscrape pandas numpy matplotlib seaborn wordcloud transformers tqdm"
   ]
  }
 ],
 "metadata": {
  "kernelspec": {
   "display_name": "Python 3",
   "language": "python",
   "name": "python3"
  },
  "language_info": {
   "codemirror_mode": {
    "name": "ipython",
    "version": 3
   },
   "file_extension": ".py",
   "mimetype": "text/x-python",
   "name": "python",
   "nbconvert_exporter": "python",
   "pygments_lexer": "ipython3",
   "version": "3.8.10"
  }
 },
 "nbformat": 4,
 "nbformat_minor": 4
}